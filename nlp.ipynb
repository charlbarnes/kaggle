{
 "cells": [
  {
   "cell_type": "code",
   "execution_count": 31,
   "id": "47697685-ae8b-49ed-87e4-2fd6b080d982",
   "metadata": {},
   "outputs": [],
   "source": [
    "import pandas\n",
    "import nltk\n",
    "from pyspark.sql import SparkSession, functions as F, types as T"
   ]
  },
  {
   "cell_type": "code",
   "execution_count": 17,
   "id": "4f1bb473-6b5c-47f6-bdf6-c6fca76d0de9",
   "metadata": {},
   "outputs": [
    {
     "name": "stderr",
     "output_type": "stream",
     "text": [
      "Using Spark's default log4j profile: org/apache/spark/log4j-defaults.properties\n",
      "Setting default log level to \"WARN\".\n",
      "To adjust logging level use sc.setLogLevel(newLevel). For SparkR, use setLogLevel(newLevel).\n",
      "22/05/20 10:30:25 WARN NativeCodeLoader: Unable to load native-hadoop library for your platform... using builtin-java classes where applicable\n"
     ]
    }
   ],
   "source": [
    "spark = (SparkSession\n",
    "            .builder\n",
    "            .master(\"local[*]\")\n",
    "            .appName(\"Testing\")\n",
    "            .config(\"spark.hadoop.mapreduce.fileoutputcommitter.algorithm.version\", 2)\n",
    "            .config(\"spark.speculation\", False)\n",
    "            .config(\"spark.sql.shuffle.partitions\", \"1\")\n",
    "            .getOrCreate()\n",
    "        )\n",
    "    "
   ]
  },
  {
   "cell_type": "code",
   "execution_count": 37,
   "id": "3a57b53f-e9cd-48c2-9841-f98b9a434515",
   "metadata": {},
   "outputs": [],
   "source": [
    "\n",
    "train_data = spark.read.format('csv').option('header','true').option(\"escape\", \"\\\"\").load(\"data/train\")\n",
    "color_labels_data = spark.read.format('csv').option('header','true').load(\"data/color_labels.csv\")\n",
    "breed_labels_data = spark.read.format('csv').option('header','true').load(\"data/breed_labels.csv\")\n",
    "    "
   ]
  },
  {
   "cell_type": "code",
   "execution_count": 39,
   "id": "bbd94661-dd26-419a-982b-bf511dff4eea",
   "metadata": {},
   "outputs": [
    {
     "data": {
      "text/plain": [
       "Type             0\n",
       "Name             0\n",
       "Age              0\n",
       "Breed1           0\n",
       "Breed2           0\n",
       "Gender           0\n",
       "Color1           0\n",
       "Color2           0\n",
       "Color3           0\n",
       "MaturitySize     0\n",
       "FurLength        0\n",
       "Vaccinated       0\n",
       "Dewormed         0\n",
       "Sterilized       0\n",
       "Health           0\n",
       "Quantity         0\n",
       "Fee              0\n",
       "State            0\n",
       "RescuerID        0\n",
       "VideoAmt         0\n",
       "Description      0\n",
       "PetID            0\n",
       "PhotoAmt         0\n",
       "AdoptionSpeed    0\n",
       "BreedID          0\n",
       "BreedName        0\n",
       "ColorID          0\n",
       "ColorName        0\n",
       "dtype: int64"
      ]
     },
     "execution_count": 39,
     "metadata": {},
     "output_type": "execute_result"
    }
   ],
   "source": [
    "pdf = (train_data\n",
    "           .withColumn(\"AdoptionSpeed\", F.col(\"AdoptionSpeed\").cast(T.IntegerType())).toPandas()\n",
    "           .merge(breed_labels_data.toPandas(), left_on=[\"Breed1\", \"Type\"], right_on=[\"BreedID\", \"Type\"])\n",
    "           .merge(color_labels_data.toPandas(), left_on=\"Color1\", right_on=\"ColorID\")\n",
    "           )\n",
    "pdf[\"AdoptionSpeed\"] = pdf[\"AdoptionSpeed\"].astype(\"int\")\n",
    "pdf[\"Fee\"] = pdf[\"Fee\"].astype(\"int\")\n",
    "pdf[\"Age\"] = pdf[\"Age\"].astype(\"int\")\n",
    "pdf[\"Name\"] = pdf[\"Name\"].fillna(\"Unknown\")\n",
    "pdf.isna().sum()"
   ]
  },
  {
   "cell_type": "code",
   "execution_count": 33,
   "id": "60a16b1b-5a7b-451a-b10b-34b985feeaaf",
   "metadata": {},
   "outputs": [
    {
     "name": "stderr",
     "output_type": "stream",
     "text": [
      "[nltk_data] Downloading package vader_lexicon to\n",
      "[nltk_data]     /Users/c0b0gyf/nltk_data...\n",
      "[nltk_data]   Package vader_lexicon is already up-to-date!\n"
     ]
    },
    {
     "data": {
      "text/plain": [
       "True"
      ]
     },
     "execution_count": 33,
     "metadata": {},
     "output_type": "execute_result"
    }
   ],
   "source": [
    "import nltk\n",
    "nltk.download(\"vader_lexicon\")"
   ]
  },
  {
   "cell_type": "code",
   "execution_count": null,
   "id": "4de9fde3-a1aa-4187-ade1-ab9d8baf1240",
   "metadata": {},
   "outputs": [],
   "source": []
  }
 ],
 "metadata": {
  "kernelspec": {
   "display_name": "Python 3 (ipykernel)",
   "language": "python",
   "name": "python3"
  },
  "language_info": {
   "codemirror_mode": {
    "name": "ipython",
    "version": 3
   },
   "file_extension": ".py",
   "mimetype": "text/x-python",
   "name": "python",
   "nbconvert_exporter": "python",
   "pygments_lexer": "ipython3",
   "version": "3.7.12"
  }
 },
 "nbformat": 4,
 "nbformat_minor": 5
}
